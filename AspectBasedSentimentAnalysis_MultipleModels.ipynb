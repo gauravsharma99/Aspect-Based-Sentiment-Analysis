{
 "cells": [
  {
   "cell_type": "code",
   "execution_count": 2,
   "metadata": {},
   "outputs": [],
   "source": [
    "import pandas as pd\n",
    "import numpy as np\n",
    "import os\n",
    "import nltk\n",
    "from nltk.tokenize import WordPunctTokenizer\n",
    "from nltk.stem.snowball import SnowballStemmer\n",
    "import math\n",
    "\n",
    "\n",
    "from sklearn.feature_extraction.text import TfidfVectorizer\n",
    "from sklearn.model_selection import *\n",
    "from sklearn import svm\n",
    "from sklearn.metrics import classification_report\n",
    "from sklearn.metrics import accuracy_score, r2_score\n",
    "\n",
    "source_word2idx = {}\n",
    "target_word2idx = {}\n",
    "source_data = []\n",
    "source_loc_data = []\n",
    "target_data = []\n",
    "target_label = []\n",
    "\n",
    "final_list = []\n",
    "max_length = 0\n",
    "\n",
    "def read_data(file):\n",
    "    data_train_1 = pd.read_csv(file)\n",
    "    return data_train_1\n",
    "\n",
    "def read_and_process_data(data_train_1, sourceWord2idx, targetWord2idx):\n",
    "    global source_word2idx\n",
    "    global target_word2idx\n",
    "    source_word2idx = sourceWord2idx\n",
    "    target_word2idx = targetWord2idx\n",
    "    #parse_data(data_train_1)\n",
    "    #create_vocab(data_train_1)\n",
    "    data_train_1.apply(prepare_data,axis = 1)\n",
    "    return source_data, source_loc_data, target_data, target_label, max_length\n",
    "\n",
    "\n",
    "def split_data(data_train_1, train_size, test_size):\n",
    "    size = data_train_1.shape[0]\n",
    "    training_rows = math.ceil((train_size/100)*size)\n",
    "    testing_rows = size - training_rows\n",
    "    train_data = data_train_1.iloc[0:training_rows]\n",
    "    test_data = data_train_1.iloc[training_rows:]\n",
    "    return train_data, test_data\n",
    "\n",
    "\n",
    "def custom_tokenize(text):\n",
    "    tokenizer = WordPunctTokenizer()\n",
    "    tokens = tokenizer.tokenize(text)\n",
    "    words = [word for word in tokens if word.isalnum()]\n",
    "    return words\n",
    "\n",
    "\n",
    "def parse_data(data_train_1):\n",
    "    data_train_1[' text'] = data_train_1[' text'].apply(lambda x: x.replace('[comma]',',').lower())\n",
    "    data_train_1[' text'] = data_train_1[' text'].apply(custom_tokenize)\n",
    "    data_train_1[' aspect_term'] = data_train_1[' aspect_term'].apply(lambda x: x.lower())\n",
    "    data_train_1[' aspect_term'] = data_train_1[' aspect_term'].apply(custom_tokenize)\n",
    "    data_train_1[' aspect_term'] = data_train_1[' aspect_term'].apply(lambda x:\" \".join(x))\n",
    "    return data_train_1\n",
    "\n",
    "\n",
    "def prepare_data(row):\n",
    "    global max_length\n",
    "    global source_word2idx\n",
    "    global target_word2idx\n",
    "    m = [source_word2idx[id] for id in row[' text']]\n",
    "    if len(m) == 2602:\n",
    "        print(row[' text'])\n",
    "    if len(m) > max_length:\n",
    "        max_length = len(m)\n",
    "    source_data.append(m)\n",
    "    t = [target_word2idx[row[' aspect_term']]]\n",
    "    target_data.append(t)\n",
    "    target_label.append(row[' class'])\n",
    "    g = get_pos(row)\n",
    "    datab = []\n",
    "    datab.append(m)\n",
    "    datab.append(g)\n",
    "    datab.append(t)\n",
    "    final_list.append(datab)\n",
    "\n",
    "\n",
    "def get_pos_old(row):\n",
    "    index = []\n",
    "    s_len = len(row[' text'])-1\n",
    "    p = row[' text'].copy()\n",
    "    #print('%s in %s: '%(row[' aspect_term'],row[' text']))\n",
    "    aspects = row[' aspect_term'].split(' ')\n",
    "    for aspect in aspects:\n",
    "        try:\n",
    "            if len(aspects)-1 > aspects.index(aspect):\n",
    "                a_i = [i for i,val in enumerate(row[' text']) if val==aspect]\n",
    "                #print(a_i)\n",
    "                \n",
    "                for a_id in a_i:\n",
    "                    try:\n",
    "                        if row[' text'][a_id+1] != aspects[aspects.index(aspect)+1]:\n",
    "                            a_i.remove(a_id)\n",
    "                    except:\n",
    "#                         print('a_i',a_i)\n",
    "#                         print('a_id',a_id)\n",
    "#                         print(a_i.index(a_id))\n",
    "                        a_i = a_i[:a_i.index(a_id)+1]\n",
    "#                         print('exception', a_i)\n",
    "                        break;\n",
    "    #             index.append(row[' text'].index(aspect))\n",
    "                index.extend(a_i)\n",
    "                #print(index)\n",
    "                for i in index:\n",
    "                    p[i] = s_len\n",
    "            else:\n",
    "                index.append(row[' text'].index(aspect))\n",
    "                p[row[' text'].index(aspect)] = s_len\n",
    "        except:\n",
    "            pass\n",
    "    try:\n",
    "        for i in range(index[0]):\n",
    "#             p[i] = index[0] - i\n",
    "            p[i] = s_len - index[0] + i\n",
    "        v = s_len\n",
    "        for i in range(index[len(index)-1],len(p)):\n",
    "            #p[i] = i - index[len(index)-1]\n",
    "            if i == index[len(index)-1]:\n",
    "                p[i] = v\n",
    "            else:    \n",
    "                p[i] = v - 1\n",
    "                v = v-1\n",
    "            \n",
    "        #print(p)\n",
    "    except Exception as e: \n",
    "#         print(e)\n",
    "#         print(p)\n",
    "#         print('exception caught')\n",
    "#         print('%s,%s'%(row[' text'],row[' aspect_term']))\n",
    "        p = [0 for i in row[' text']]\n",
    "#         print(p)\n",
    "    #print(source_loc_data)\n",
    "    source_loc_data.append(p)\n",
    "    return p\n",
    "\n",
    "\n",
    "def get_pos(row):\n",
    "    index = []\n",
    "    s_len = len(row[' text'])-1\n",
    "    p = row[' text'].copy()\n",
    "    #print('%s in %s: '%(row[' aspect_term'],row[' text']))\n",
    "    aspects = row[' aspect_term'].split(' ')\n",
    "    for aspect in aspects:\n",
    "        try:\n",
    "            if len(aspects)-1 > aspects.index(aspect):\n",
    "                a_i = [i for i,val in enumerate(row[' text']) if val==aspect]\n",
    "                try:\n",
    "                    for a_id in a_i:\n",
    "                        if row[' text'][a_id+1] != aspects[aspects.index(aspect)+1]:\n",
    "                            a_i.remove(a_id)\n",
    "                except:\n",
    "                    pass\n",
    "    #             index.append(row[' text'].index(aspect))\n",
    "                index.extend(a_i[0])\n",
    "            else:\n",
    "                index.append(row[' text'].index(aspect))\n",
    "            p[row[' text'].index(aspect)] = s_len\n",
    "        except:\n",
    "            pass\n",
    "    try:\n",
    "        for i in range(index[0]):\n",
    "#             p[i] = index[0] - i\n",
    "            p[i] = s_len - index[0] + i\n",
    "        v = s_len\n",
    "        for i in range(index[len(index)-1],len(p)):\n",
    "            #p[i] = i - index[len(index)-1]\n",
    "            if i == index[len(index)-1]:\n",
    "                p[i] = v\n",
    "            else:    \n",
    "                p[i] = v - 1\n",
    "                v = v-1\n",
    "            \n",
    "        #print(p)\n",
    "    except Exception as e: \n",
    "#         print(e)\n",
    "#         print(p)\n",
    "#         print('exception caught')\n",
    "#         print('%s,%s'%(row[' text'],row[' aspect_term']))\n",
    "        p = [0 for i in row[' text']]\n",
    "#         print(p)\n",
    "    source_loc_data.append(p)\n",
    "    return p\n",
    "\n",
    "\n",
    "def create_vocab(data_train_1):\n",
    "    source_word2idx = {'<pad>': 0}\n",
    "    target_word2idx = {}\n",
    "    for words in data_train_1[' text']:\n",
    "        for word in words:\n",
    "            if word not in source_word2idx:\n",
    "                source_word2idx[word] = len(source_word2idx)\n",
    "\n",
    "    for words in data_train_1[' aspect_term']:\n",
    "        if words not in target_word2idx:\n",
    "            target_word2idx[words] = len(target_word2idx)\n",
    "    return source_word2idx, target_word2idx"
   ]
  },
  {
   "cell_type": "code",
   "execution_count": 3,
   "metadata": {},
   "outputs": [],
   "source": [
    "train_file = 'data/data_2_train.csv'\n",
    "#train_file = 'data/data_2_train.csv'\n",
    "\n",
    "data = read_data(train_file)\n",
    "parsed_data = parse_data(data)\n",
    "source_word2idx, target_word2idx = create_vocab(parsed_data)\n",
    "\n",
    "#trainData, testData = process_data.split_data(parsed_data, 80, 20)\n",
    "train_data = read_and_process_data(parsed_data, source_word2idx, target_word2idx)\n",
    "#test_data = process_data.read_and_process_data(testData, source_word2idx, target_word2idx)"
   ]
  },
  {
   "cell_type": "code",
   "execution_count": 4,
   "metadata": {},
   "outputs": [
    {
     "name": "stdout",
     "output_type": "stream",
     "text": [
      "sen_max_len:  70\n",
      "(3602, 3, 70)\n",
      "(3602, 210)\n"
     ]
    }
   ],
   "source": [
    "\n",
    "x1_list, x2_list, x3_list = list(), list(), list()\n",
    "example_list = list()\n",
    "\n",
    "sen_max_len = train_data[4]\n",
    "print(\"sen_max_len: \",sen_max_len)\n",
    "\n",
    "for i in range(len(train_data[0])):\n",
    "    x1, x2, x3 = list(), list(), list()\n",
    "    \n",
    "    x1.extend(train_data[0][i])\n",
    "    if len(x1) < sen_max_len:\n",
    "        for _ in range(sen_max_len - len(x1)):\n",
    "            x1.append(0)\n",
    "    \n",
    "    x2.extend(train_data[1][i])\n",
    "    if len(x2) < sen_max_len:\n",
    "        for _ in range(sen_max_len - len(x2)):\n",
    "            x2.append(0)\n",
    "            \n",
    "    x3.extend(train_data[2][i])\n",
    "    for j in range(len(x1) - 1):\n",
    "        x3.append(x3[0])\n",
    "    for k in range(sen_max_len - len(x3)):\n",
    "        x3.append(0)\n",
    "    \n",
    "    example = list()\n",
    "    example.append(x1)\n",
    "    example.append(x2)\n",
    "    example.append(x3)\n",
    "    #print(\"example: \",example)\n",
    "    example_list.append(example)\n",
    "\n",
    "len(example_list)\n",
    "\n",
    "final_array = np.array(example_list)\n",
    "print(final_array.shape)\n",
    "\n",
    "nsamples, nx, ny = final_array.shape\n",
    "feature_vector = final_array.reshape((nsamples,nx*ny))\n",
    "print(feature_vector.shape)\n",
    "labels = train_data[3]"
   ]
  },
  {
   "cell_type": "code",
   "execution_count": 5,
   "metadata": {},
   "outputs": [
    {
     "data": {
      "text/plain": [
       "3602"
      ]
     },
     "execution_count": 5,
     "metadata": {},
     "output_type": "execute_result"
    }
   ],
   "source": [
    "len(labels)"
   ]
  },
  {
   "cell_type": "code",
   "execution_count": 6,
   "metadata": {},
   "outputs": [
    {
     "data": {
      "text/plain": [
       "dict_values([805, 2164, 633])"
      ]
     },
     "execution_count": 6,
     "metadata": {},
     "output_type": "execute_result"
    }
   ],
   "source": [
    "from collections import Counter\n",
    "Counter(labels).keys() # equals to list(set(words))\n",
    "# counts the elements' frequency\n",
    "Counter(labels).values() "
   ]
  },
  {
   "cell_type": "code",
   "execution_count": 7,
   "metadata": {},
   "outputs": [
    {
     "name": "stdout",
     "output_type": "stream",
     "text": [
      "[(-1, 2164), (0, 2164), (1, 2164)]\n"
     ]
    }
   ],
   "source": [
    "from imblearn.over_sampling import SMOTE, ADASYN\n",
    "X_resampled, y_resampled = SMOTE().fit_sample(feature_vector, labels)\n",
    "print(sorted(Counter(y_resampled).items()))"
   ]
  },
  {
   "cell_type": "code",
   "execution_count": 8,
   "metadata": {},
   "outputs": [],
   "source": [
    "train_vectors, test_vectors, train_labels, test_labels = train_test_split(X_resampled, y_resampled, test_size=0.2, random_state=0)"
   ]
  },
  {
   "cell_type": "code",
   "execution_count": 9,
   "metadata": {},
   "outputs": [
    {
     "data": {
      "text/plain": [
       "(5193, 210)"
      ]
     },
     "execution_count": 9,
     "metadata": {},
     "output_type": "execute_result"
    }
   ],
   "source": [
    "train_vectors.shape"
   ]
  },
  {
   "cell_type": "code",
   "execution_count": 10,
   "metadata": {},
   "outputs": [
    {
     "data": {
      "text/plain": [
       "dict_values([1731, 1730, 1732])"
      ]
     },
     "execution_count": 10,
     "metadata": {},
     "output_type": "execute_result"
    }
   ],
   "source": [
    "from collections import Counter\n",
    "Counter(train_labels).keys() # equals to list(set(words))\n",
    "# counts the elements' frequency\n",
    "Counter(train_labels).values() "
   ]
  },
  {
   "cell_type": "code",
   "execution_count": 14,
   "metadata": {},
   "outputs": [
    {
     "name": "stdout",
     "output_type": "stream",
     "text": [
      "(5193, 210)\n",
      "(5193,)\n",
      "(1299, 210)\n",
      "(1299,)\n",
      "<class 'numpy.ndarray'>\n"
     ]
    }
   ],
   "source": [
    "print(train_vectors.shape)\n",
    "print(train_labels.shape)\n",
    "print(test_vectors.shape)\n",
    "print(test_labels.shape)\n",
    "print(type(train_labels))"
   ]
  },
  {
   "cell_type": "code",
   "execution_count": 15,
   "metadata": {},
   "outputs": [
    {
     "data": {
      "image/png": "[encoded data removed]",
      "text/plain": [
       "<Figure size 432x288 with 1 Axes>"
      ]
     },
     "metadata": {},
     "output_type": "display_data"
    }
   ],
   "source": [
    "%matplotlib inline\n",
    "from matplotlib import pylab as plt\n",
    "\n",
    "from sklearn.ensemble import ExtraTreesClassifier\n",
    "\n",
    "forest = ExtraTreesClassifier(n_estimators=250,\n",
    "                              random_state=0)\n",
    "X = train_vectors\n",
    "y = train_labels\n",
    "forest.fit(X, y)\n",
    "importances = forest.feature_importances_\n",
    "std = np.std([tree.feature_importances_ for tree in forest.estimators_],\n",
    "             axis=0)\n",
    "indices = np.argsort(importances)[::-1]\n",
    "\n",
    "# Print the feature ranking\n",
    "#print(\"Feature ranking:\")\n",
    "\n",
    "# for f in range(X.shape[1]):\n",
    "#     print(\"%d. feature %d (%f)\" % (f + 1, indices[f], importances[indices[f]]))\n",
    "\n",
    "# Plot the feature importances of the forest\n",
    "plt.figure()\n",
    "plt.title(\"Feature importances\")\n",
    "plt.bar(range(X.shape[1]), importances[indices],\n",
    "       color=\"r\", yerr=std[indices], align=\"center\")\n",
    "plt.xticks(range(X.shape[1]), indices)\n",
    "plt.xlim([-1, X.shape[1]])\n",
    "plt.show()"
   ]
  },
  {
   "cell_type": "code",
   "execution_count": 16,
   "metadata": {},
   "outputs": [
    {
     "data": {
      "text/plain": [
       "(5193, 50)"
      ]
     },
     "execution_count": 16,
     "metadata": {},
     "output_type": "execute_result"
    }
   ],
   "source": [
    "importances.shape\n",
    "train_vectors.shape[0]\n",
    "train_X = np.zeros(shape=(train_vectors.shape[0],50))\n",
    "train_X.shape"
   ]
  },
  {
   "cell_type": "code",
   "execution_count": 17,
   "metadata": {},
   "outputs": [
    {
     "name": "stdout",
     "output_type": "stream",
     "text": [
      "***************************\n",
      "111.0\n"
     ]
    }
   ],
   "source": [
    "\n",
    "for i in range(train_vectors.shape[0]):\n",
    "    for j in range(50):\n",
    "        # print(\"indices [\",j,\"]: \",indices[j], \" train_vectors[i][indices[j]]:\",train_vectors[i][indices[j]])\n",
    "        train_X[i][j] = train_vectors[i][indices[j]]\n",
    "        \n",
    "print(\"***************************\")  \n",
    "print(train_X[i][j])"
   ]
  },
  {
   "cell_type": "code",
   "execution_count": 18,
   "metadata": {},
   "outputs": [
    {
     "name": "stdout",
     "output_type": "stream",
     "text": [
      "Results for RFR: \n",
      "\n",
      "scores:  [0.75047985 0.73076923 0.78805395 0.78612717 0.76685934 0.80539499\n",
      " 0.74373796 0.73410405 0.7495183  0.74759152]\n",
      "\n",
      "\n",
      "             precision    recall  f1-score   support\n",
      "\n",
      "         -1       0.78      0.78      0.78       433\n",
      "          0       0.79      0.78      0.79       432\n",
      "          1       0.75      0.76      0.76       434\n",
      "\n",
      "avg / total       0.77      0.77      0.77      1299\n",
      "\n",
      "Overall accuracy:  0.7744418783679754\n"
     ]
    }
   ],
   "source": [
    "from sklearn.ensemble import RandomForestClassifier as RFR\n",
    "#10,20,50,80\n",
    "n_estimators = [100,200,500]\n",
    "rfr = RFR(n_estimators=100,random_state=0)\n",
    "\n",
    "print(\"Results for RFR: \")\n",
    "print()\n",
    "\n",
    "rfr_scores = cross_val_score(rfr, train_vectors, train_labels, cv=10)  \n",
    "print('scores: ', rfr_scores)\n",
    "\n",
    "rfr.fit(train_vectors,train_labels)\n",
    "y_pred = rfr.predict(test_vectors) \n",
    "\n",
    "rfr_accuracy = accuracy_score(test_labels, y_pred)\n",
    "\n",
    "print()\n",
    "\n",
    "print(\"\")\n",
    "print(classification_report(test_labels, y_pred))\n",
    "print(\"Overall accuracy: \",rfr_accuracy)"
   ]
  },
  {
   "cell_type": "code",
   "execution_count": 19,
   "metadata": {},
   "outputs": [
    {
     "name": "stdout",
     "output_type": "stream",
     "text": [
      "Results for DecisionTreeClassifier: \n",
      "\n",
      "scores:  [0.75047985 0.73076923 0.78805395 0.78612717 0.76685934 0.80539499\n",
      " 0.74373796 0.73410405 0.7495183  0.74759152]\n",
      "\n",
      "             precision    recall  f1-score   support\n",
      "\n",
      "         -1       0.63      0.63      0.63       433\n",
      "          0       0.65      0.68      0.67       432\n",
      "          1       0.66      0.65      0.66       434\n",
      "\n",
      "avg / total       0.65      0.65      0.65      1299\n",
      "\n",
      "Overall accuracy:  0.651270207852194\n"
     ]
    }
   ],
   "source": [
    "from sklearn.tree import DecisionTreeClassifier\n",
    "\n",
    "dt_clf = DecisionTreeClassifier(max_depth=None, min_samples_split=2,random_state=0)\n",
    "print(\"Results for DecisionTreeClassifier: \")\n",
    "print()\n",
    "rfr_scores = cross_val_score(rfr, train_vectors, train_labels, cv=10)  \n",
    "print('scores: ', rfr_scores)\n",
    "\n",
    "dt_clf.fit(train_vectors,train_labels)\n",
    "y_pred = dt_clf.predict(test_vectors)\n",
    "\n",
    "accuracy = accuracy_score(test_labels, y_pred)\n",
    "\n",
    "print(\"\")\n",
    "print(classification_report(test_labels, y_pred))\n",
    "print(\"Overall accuracy: \",accuracy)"
   ]
  },
  {
   "cell_type": "code",
   "execution_count": 20,
   "metadata": {},
   "outputs": [
    {
     "name": "stdout",
     "output_type": "stream",
     "text": [
      "scores:  [0.66410749 0.65576923 0.69171484 0.68400771 0.68786127 0.68208092\n",
      " 0.64547206 0.66859345 0.68978805 0.67244701]\n",
      "\n",
      "             precision    recall  f1-score   support\n",
      "\n",
      "         -1       0.68      0.84      0.75       433\n",
      "          0       0.68      0.89      0.77       432\n",
      "          1       0.81      0.39      0.53       434\n",
      "\n",
      "avg / total       0.73      0.70      0.68      1299\n",
      "\n",
      "Overall accuracy:  0.7036181678214011\n"
     ]
    }
   ],
   "source": [
    "from sklearn.neighbors import KNeighborsClassifier\n",
    "\n",
    "knn = KNeighborsClassifier()\n",
    "\n",
    "scores = cross_val_score(knn, train_vectors, train_labels, cv=10)  \n",
    "print('scores: ', scores)\n",
    "\n",
    "knn.fit(train_vectors, train_labels)\n",
    "y_pred = knn.predict(test_vectors)\n",
    "\n",
    "accuracy = accuracy_score(test_labels, y_pred)\n",
    "\n",
    "print(\"\")\n",
    "print(classification_report(test_labels, y_pred))\n",
    "print(\"Overall accuracy: \",accuracy)"
   ]
  },
  {
   "cell_type": "code",
   "execution_count": 21,
   "metadata": {},
   "outputs": [
    {
     "name": "stdout",
     "output_type": "stream",
     "text": [
      "scores:  [0.3915547  0.40961538 0.39691715 0.39306358 0.41811175 0.39884393\n",
      " 0.39691715 0.39884393 0.41040462 0.39884393]\n",
      "classifier_svc_accuracy:  0.4095458044649731\n",
      "\n",
      "             precision    recall  f1-score   support\n",
      "\n",
      "         -1       0.90      0.10      0.19       433\n",
      "          0       0.92      0.13      0.23       432\n",
      "          1       0.36      0.99      0.53       434\n",
      "\n",
      "avg / total       0.73      0.41      0.32      1299\n",
      "\n",
      "Overall accuracy:  0.4095458044649731\n"
     ]
    }
   ],
   "source": [
    "svc_classifier = svm.SVC(C = 100)\n",
    "\n",
    "classifier_svc_scores = cross_val_score(svc_classifier, train_vectors, train_labels, cv=10)  \n",
    "print('scores: ', classifier_svc_scores)\n",
    "\n",
    "svc_classifier.fit(train_vectors, train_labels)\n",
    "prediction_svc = svc_classifier.predict(test_vectors)\n",
    "\n",
    "classifier_svc_accuracy = accuracy_score(test_labels, prediction_svc)\n",
    "print('classifier_svc_accuracy: ', classifier_svc_accuracy)\n",
    "\n",
    "print(\"\")\n",
    "print(classification_report(test_labels, prediction_svc))\n",
    "print(\"Overall accuracy: \",classifier_svc_accuracy)"
   ]
  },
  {
   "cell_type": "code",
   "execution_count": 22,
   "metadata": {},
   "outputs": [
    {
     "name": "stderr",
     "output_type": "stream",
     "text": [
      "C:\\Users\\mayur\\Anaconda3\\lib\\site-packages\\sklearn\\preprocessing\\label.py:151: DeprecationWarning: The truth value of an empty array is ambiguous. Returning False, but in future this will result in an error. Use `array.size > 0` to check that an array is not empty.\n",
      "  if diff:\n"
     ]
    },
    {
     "name": "stdout",
     "output_type": "stream",
     "text": [
      "0.7859892224788299\n",
      "0.7359507313317937\n"
     ]
    },
    {
     "name": "stderr",
     "output_type": "stream",
     "text": [
      "C:\\Users\\mayur\\Anaconda3\\lib\\site-packages\\sklearn\\preprocessing\\label.py:151: DeprecationWarning: The truth value of an empty array is ambiguous. Returning False, but in future this will result in an error. Use `array.size > 0` to check that an array is not empty.\n",
      "  if diff:\n"
     ]
    }
   ],
   "source": [
    "from sklearn.naive_bayes import GaussianNB\n",
    "from sklearn.ensemble import RandomForestClassifier, VotingClassifier\n",
    "\n",
    "eclf1 = VotingClassifier(estimators=[('rfr', rfr), ('knn', knn), ('dt_clf', dt_clf)], voting='hard')\n",
    "eclf1 = eclf1.fit(train_vectors, train_labels)\n",
    "eclf1_pred = eclf1.predict(test_vectors)\n",
    "eclf1_accuracy_score = accuracy_score(test_labels, eclf1_pred)\n",
    "print(eclf1_accuracy_score)\n",
    "\n",
    "eclf2 = VotingClassifier(estimators=[('rfr', rfr), ('knn', knn), ('dt_clf', dt_clf)], voting='soft')\n",
    "eclf2 = eclf2.fit(train_vectors, train_labels)\n",
    "eclf2_pred = eclf2.predict(test_vectors)\n",
    "eclf2_accuracy_score = accuracy_score(test_labels, eclf2_pred)\n",
    "print(eclf2_accuracy_score)\n",
    "\n"
   ]
  },
  {
   "cell_type": "code",
   "execution_count": null,
   "metadata": {},
   "outputs": [],
   "source": []
  },
  {
   "cell_type": "code",
   "execution_count": null,
   "metadata": {},
   "outputs": [],
   "source": []
  }
 ],
 "metadata": {
  "kernelspec": {
   "display_name": "Python 3",
   "language": "python",
   "name": "python3"
  },
  "language_info": {
   "codemirror_mode": {
    "name": "ipython",
    "version": 3
   },
   "file_extension": ".py",
   "mimetype": "text/x-python",
   "name": "python",
   "nbconvert_exporter": "python",
   "pygments_lexer": "ipython3",
   "version": "3.6.5"
  }
 },
 "nbformat": 4,
 "nbformat_minor": 2
}
